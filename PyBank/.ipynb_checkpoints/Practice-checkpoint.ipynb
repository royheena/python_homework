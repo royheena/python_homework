{
 "cells": [
  {
   "cell_type": "markdown",
   "metadata": {},
   "source": [
    "# 02-Stu_Lists"
   ]
  },
  {
   "cell_type": "code",
   "execution_count": 2,
   "metadata": {},
   "outputs": [
    {
     "name": "stdout",
     "output_type": "stream",
     "text": [
      "My list of groceries:\n",
      "['water', 'butter', 'eggs', 'apples', 'cinnamon', 'sugar', 'milk']\n",
      "\n"
     ]
    }
   ],
   "source": [
    "# Create a list of groceries\n",
    "\n",
    "print(\"My list of groceries:\")\n",
    "groceries = [\"water\", \"butter\", \"eggs\", \"apples\", \"cinnamon\", \"sugar\", \"milk\"]\n",
    "print(groceries)\n",
    "print()"
   ]
  },
  {
   "cell_type": "code",
   "execution_count": 3,
   "metadata": {},
   "outputs": [
    {
     "name": "stdout",
     "output_type": "stream",
     "text": [
      "What are my first two items on the list?\n",
      "['water', 'butter']\n",
      "\n"
     ]
    }
   ],
   "source": [
    "# Find the first two items on the list\n",
    "# Use: function_name(list_name[start:stop:skip])\n",
    "# Ans: print(groceries[0:2:0])\n",
    "\n",
    "print(\"What are my first two items on the list?\")\n",
    "print(groceries[:2])\n",
    "print()"
   ]
  },
  {
   "cell_type": "code",
   "execution_count": 5,
   "metadata": {},
   "outputs": [
    {
     "name": "stdout",
     "output_type": "stream",
     "text": [
      "What are all my items except for th first two on the list?\n",
      "['eggs', 'apples', 'cinnamon', 'sugar', 'milk']\n",
      "\n"
     ]
    }
   ],
   "source": [
    "# Find the last five items on the list\n",
    "# Use: function_name(list_name[start:stop:skip])\n",
    "# Ans: print(groceries[2:0:0])\n",
    "\n",
    "print(\"What are all my items except for th first two on the list?\")\n",
    "print(groceries[2:])\n",
    "print()"
   ]
  },
  {
   "cell_type": "code",
   "execution_count": 6,
   "metadata": {},
   "outputs": [
    {
     "name": "stdout",
     "output_type": "stream",
     "text": [
      "What is every other item on the list, starting from the second item\n",
      "['butter', 'apples', 'sugar']\n",
      "\n"
     ]
    }
   ],
   "source": [
    "# Find every other item on the list, starting from the second item\n",
    "# Use: function_name(list_name[start:stop:skip])\n",
    "# Ans: print(groceries[1:0:2])\n",
    "\n",
    "print(\"What is every other item on the list, starting from the second item\")\n",
    "print(groceries[1::2])\n",
    "print()"
   ]
  },
  {
   "cell_type": "code",
   "execution_count": 8,
   "metadata": {},
   "outputs": [
    {
     "name": "stdout",
     "output_type": "stream",
     "text": [
      "Oops, forgot to add flour...\n",
      "['water', 'butter', 'eggs', 'apples', 'cinnamon', 'sugar', 'milk', 'flour']\n",
      "\n"
     ]
    }
   ],
   "source": [
    "# Add an element to the end of the list\n",
    "# Use: list_name.append(\"element_name\")\n",
    "# Ans: groceries.append(\"flour\")\n",
    "\n",
    "print(\"Oops, forgot to add flour...\")\n",
    "groceries.append(\"flour\")\n",
    "print(groceries)\n",
    "print()"
   ]
  },
  {
   "cell_type": "code",
   "execution_count": 12,
   "metadata": {},
   "outputs": [
    {
     "name": "stdout",
     "output_type": "stream",
     "text": [
      "I should be more specific with what kind of apples I want...\n",
      "['water', 'butter', 'eggs', 'gala apples', 'cinnamon', 'sugar', 'milk', 'flour']\n",
      "\n"
     ]
    }
   ],
   "source": [
    "# Change a specified element within the list at the give index\n",
    "# Use: list_name[index_number] = \"renamed_element\"\n",
    "# Ans: groceries[3] = \"gala apples\"\n",
    "\n",
    "print(\"I should be more specific with what kind of apples I want...\")\n",
    "groceries[3] = \"gala apples\"\n",
    "print(groceries)\n",
    "print()"
   ]
  },
  {
   "cell_type": "code",
   "execution_count": 13,
   "metadata": {},
   "outputs": [
    {
     "name": "stdout",
     "output_type": "stream",
     "text": [
      "How many items do I have on my shopping list?\n",
      "8\n",
      "\n"
     ]
    }
   ],
   "source": [
    "# Calculate how many items you have in the list\n",
    "# Use: len(list_name)\n",
    "# Ans: len(groceries)\n",
    "\n",
    "print(\"How many items do I have on my shopping list?\")\n",
    "print(len(groceries))\n",
    "print()"
   ]
  },
  {
   "cell_type": "markdown",
   "metadata": {},
   "source": [
    "# 04-Stu_Iterate_Lists"
   ]
  },
  {
   "cell_type": "code",
   "execution_count": 15,
   "metadata": {},
   "outputs": [],
   "source": [
    "# Initialize the metric variables\n",
    "# Use: Set variables to 0 to begin (or restart) everytime function is run\n",
    "#  variable_1 = 0, variable_2 = 0, variable_3 = 0\n",
    "# Ans: count = 0, total = 0, average = 0, etc.\n",
    "\n",
    "count = 0\n",
    "total = 0\n",
    "average = 0\n",
    "minimum = 0\n",
    "maximum = 0"
   ]
  },
  {
   "cell_type": "code",
   "execution_count": 16,
   "metadata": {},
   "outputs": [],
   "source": [
    "# Initialize lists to hold profitable and unprofitable day profits/losses\n",
    "# Use: Create empty lists to hold data\n",
    "#  list_1 = [], list_2 = [], list_3 = []\n",
    "# Ans: profitable_days = [], unprofitable_days = []\n",
    "\n",
    "profitable_days = []\n",
    "unprofitable_days = []"
   ]
  },
  {
   "cell_type": "code",
   "execution_count": 17,
   "metadata": {},
   "outputs": [],
   "source": [
    "# List of trading profits/losses\n",
    "# Use: define_new_list = [-2, -1, 0, 1, 2]\n",
    "# Ans: \n",
    "\n",
    "trading_pnl = [-224, 352, 252, 354, -544, -650, 56, 123, -43, 254, 325, -123, 47, 321, 123, 133, -151, 613, 232, -311]"
   ]
  },
  {
   "cell_type": "code",
   "execution_count": 22,
   "metadata": {},
   "outputs": [
    {
     "name": "stdout",
     "output_type": "stream",
     "text": [
      "------------Summary Statistics----------\n",
      "Number of Total Days: 40\n",
      "Number of Profitable Days: 26\n",
      "Number of Unprofitable Days: 13\n",
      "Percentage of Profitable Days: 65.0%\n",
      "Percentage of Unprofitable Days: 32.5%\n",
      "----------------------------------------\n",
      "Profitable Days: [352, 252, 354, 56, 123, 254, 325, 47, 321, 123, 133, 613, 232, 352, 252, 354, 56, 123, 254, 325, 47, 321, 123, 133, 613, 232]\n",
      "Unprofitable Days: [-224, -544, -650, -43, -123, -151, -311, -224, -544, -650, -43, -123, -151, -311]\n",
      "----------------------------------------\n",
      "Total Profits/Losses: 2278\n",
      "Daily Average: 56.95\n",
      "Worst Loss: -650\n",
      "Best Gain: 613\n"
     ]
    }
   ],
   "source": [
    "# Iterate over each element of the list\n",
    "# Use: for define_assigned_name_of_element in define_new_list:\n",
    "#     for day_pnl in trading_pnl:\n",
    "\n",
    "# Cumulatively sum up the total profits/losses and count of trading days\n",
    "# Use: initialized metric variable_1, variable_2, etc. for iterating thru list\n",
    "#  total = total + day_pnl ##also written as## total += day_pnl\n",
    "#  count = count + 1 ##also written as## count += 1\n",
    "\n",
    "# Logic to determine minimum and maximum values\n",
    "# Use: \n",
    "#      if minimum == 0:\n",
    "#         minimum = day_pnl\n",
    "#      elif day_pnl < minimum:\n",
    "#         minimum = day_pnl\n",
    "#      elif day_pnl > maximum:\n",
    "#         maximum = day_pnl\n",
    "\n",
    "# Logic to determine profitable vs unprofitable days\n",
    "# Use: \n",
    "#      if day_pnl > 0:\n",
    "#         profitable_days.append(day_pnl)\n",
    "#      elif day_pnl <= 0:\n",
    "#         unprofitable_days.append(day_pnl)\n",
    "\n",
    "# Calculate the average\n",
    "# Use: \n",
    "# average = round(total / count, 2)\n",
    "\n",
    "# Count metrics\n",
    "# Use:\n",
    "# profitable_count = len(profitable_days)\n",
    "# unprofitable_count = len(unprofitable_days)\n",
    "\n",
    "# Percentage metrics\n",
    "# Use:\n",
    "# percent_profitable = profitable_count / count * 100\n",
    "# percent_unprofitable = unprofitable_count / count * 100\n",
    "\n",
    "for day_pnl in trading_pnl:\n",
    "    total +=day_pnl\n",
    "    count += 1\n",
    "    average = round(total / count, 2)\n",
    "    profitable_count = len(profitable_days)\n",
    "    unprofitable_count = len(unprofitable_days)\n",
    "    percent_profitable = profitable_count / count * 100\n",
    "    percent_unprofitable = unprofitable_count / count * 100\n",
    "    if minimum == 0:\n",
    "        minimum = day_pnl\n",
    "    elif day_pnl <minimum:\n",
    "        minimum = day_pnl\n",
    "    elif day_pnl > maximum:\n",
    "        maximum = day_pnl\n",
    "        \n",
    "    if day_pnl > 0:\n",
    "        profitable_days.append(day_pnl)\n",
    "    elif day_pnl <= 0:\n",
    "        unprofitable_days.append(day_pnl)\n",
    "        \n",
    "# Print out the summary statistics\n",
    "print(\"------------Summary Statistics----------\")\n",
    "print(f\"Number of Total Days: {count}\")\n",
    "print(f\"Number of Profitable Days: {profitable_count}\")\n",
    "print(f\"Number of Unprofitable Days: {unprofitable_count}\")\n",
    "print(f\"Percentage of Profitable Days: {percent_profitable}%\")\n",
    "print(f\"Percentage of Unprofitable Days: {percent_unprofitable}%\")\n",
    "print(\"----------------------------------------\")\n",
    "print(f\"Profitable Days: {profitable_days}\")\n",
    "print(f\"Unprofitable Days: {unprofitable_days}\")\n",
    "print(\"----------------------------------------\")\n",
    "print(f\"Total Profits/Losses: {total}\")\n",
    "print(f\"Daily Average: {average}\")\n",
    "print(f\"Worst Loss: {minimum}\")\n",
    "print(f\"Best Gain: {maximum}\")"
   ]
  },
  {
   "cell_type": "code",
   "execution_count": null,
   "metadata": {},
   "outputs": [],
   "source": []
  },
  {
   "cell_type": "markdown",
   "metadata": {},
   "source": [
    "# 06-Stu_Dictionaries"
   ]
  },
  {
   "cell_type": "code",
   "execution_count": 54,
   "metadata": {},
   "outputs": [],
   "source": [
    "# Initialize a dictionary of banks and market caps (in billions)\n",
    "# Use: key_value_dictionary = {\"key_1\": value_1, \"key_2\": value_2, \"key_3\": value_3}\n",
    "# Ans: \n",
    "banks = {\"JP Morgan Chase\": 327, \"Bank of America\": 302, \"Citigroup\": 173, \"Wells Fargo\": 273, \"Goldman Sachs\": 87, \"Morgan Stanley\": 72, \"U.S. Bancorp\": 83, \"TD Bank\": 108, \"PNC Financial Services\": 67, \"Capital One\": 47, \"FNB Corporation\": 4, \"First Hawaiian Bank\": 3, \"Ally Financial\": 12, \"Wachovia\": 145, \"Republic Bancorp\": .97}"
   ]
  },
  {
   "cell_type": "code",
   "execution_count": 55,
   "metadata": {},
   "outputs": [],
   "source": [
    "# Change the market cap for \"Citigroup\" to 170\n",
    "# Use: key_value_dictionary[key_2] = new_value_2\n",
    "# Ans:\n",
    "banks[\"Citigroup\"] = 170"
   ]
  },
  {
   "cell_type": "code",
   "execution_count": 56,
   "metadata": {},
   "outputs": [],
   "source": [
    "# Add a new bank and market cap pair\n",
    "# Use: key_value_dictionary[key_x] = value_x\n",
    "# Ans:\n",
    "banks [\"American Express\"] = 33"
   ]
  },
  {
   "cell_type": "code",
   "execution_count": 57,
   "metadata": {},
   "outputs": [],
   "source": [
    "# Remove a bank from the dictionary\n",
    "# Use: del key_value_dictionary[key_1]\n",
    "# Ans:\n",
    "del banks[\"Wachovia\"]"
   ]
  },
  {
   "cell_type": "code",
   "execution_count": 58,
   "metadata": {},
   "outputs": [
    {
     "name": "stdout",
     "output_type": "stream",
     "text": [
      "{'JP Morgan Chase': 327, 'Bank of America': 302, 'Citigroup': 170, 'Wells Fargo': 273, 'Goldman Sachs': 87, 'Morgan Stanley': 72, 'U.S. Bancorp': 83, 'TD Bank': 108, 'PNC Financial Services': 67, 'Capital One': 47, 'FNB Corporation': 4, 'First Hawaiian Bank': 3, 'Ally Financial': 12, 'Republic Bancorp': 0.97, 'American Express': 33}\n"
     ]
    }
   ],
   "source": [
    "# Print the modified dictionary\n",
    "# Use: print(key_value_dictionary)\n",
    "# Ans:\n",
    "print(banks)"
   ]
  },
  {
   "cell_type": "code",
   "execution_count": 83,
   "metadata": {},
   "outputs": [
    {
     "name": "stdout",
     "output_type": "stream",
     "text": [
      "Name: JP Morgan Chase | Market Cap: 327\n",
      "Name: Bank of America | Market Cap: 302\n",
      "Name: Citigroup | Market Cap: 170\n",
      "Name: Wells Fargo | Market Cap: 273\n",
      "Name: Goldman Sachs | Market Cap: 87\n",
      "Name: Morgan Stanley | Market Cap: 72\n",
      "Name: U.S. Bancorp | Market Cap: 83\n",
      "Name: TD Bank | Market Cap: 108\n",
      "Name: PNC Financial Services | Market Cap: 67\n",
      "Name: Capital One | Market Cap: 47\n",
      "Name: FNB Corporation | Market Cap: 4\n",
      "Name: First Hawaiian Bank | Market Cap: 3\n",
      "Name: Ally Financial | Market Cap: 12\n",
      "Name: Republic Bancorp | Market Cap: 0.97\n",
      "Name: American Express | Market Cap: 33\n",
      "\n",
      "Largest bank: Wells Fargo\n",
      "Smallest bank: Republic Bancorp\n",
      "\n",
      "Mega Caps: ['JP Morgan Chase', 'Bank of America']\n",
      "Large Caps: ['Citigroup', 'Wells Fargo', 'Goldman Sachs', 'Morgan Stanley', 'U.S. Bancorp', 'TD Bank', 'PNC Financial Services', 'Capital One', 'Ally Financial', 'American Express']\n",
      "Mid Caps: ['FNB Corporation', 'First Hawaiian Bank']\n",
      "Small Caps: ['Republic Bancorp']\n",
      "\n",
      "15 Banks with a Total Market Cap $1588B\n"
     ]
    }
   ],
   "source": [
    "# Initialize market cap lists\n",
    "# Use: Create empty lists to hold data: list_1 = [], list_2 = [], list_3 = []\n",
    "# Ans:\n",
    "mega_caps = []\n",
    "large_caps = []\n",
    "mid_caps = []\n",
    "small_caps = []\n",
    "\n",
    "# Initialize the metric variables\n",
    "# Use: Set variables to 0 to begin (or restart) everytime function is run\n",
    "#  variable_1 = 0, variable_2 = 0, variable_3 = 0\n",
    "# Ans:\n",
    "total_market_cap = 0\n",
    "bank_count = 0\n",
    "minimum_value = 0\n",
    "maximum_value = 0\n",
    "\n",
    "# Iterate over each key_value of the dictionary\n",
    "# Use: for define_assigned_name_of_key, define_assigned_name_of_value in key_value_dictionary.items():\n",
    "# Ans:\n",
    "\n",
    "for bank_name, market_cap in banks.items():\n",
    "    print(f\"Name: {bank_name} | Market Cap: {market_cap}\")\n",
    "  \n",
    "    # Calculate sum of market caps and number of banks in the dictionary\n",
    "    # Use: initialized variable_1, variable_2, etc. for iterating thru list\n",
    "    # Ans:\n",
    "    total_market_cap += int(market_cap)\n",
    "    bank_count += 1\n",
    "\n",
    "    # Logic to determine min and max values and associated keys\n",
    "    # Use:\n",
    "    # Ans:\n",
    "    if minimum_value == 0:\n",
    "        minimum_value = market_cap\n",
    "        minimum_key = bank_name\n",
    "    elif market_cap < minimum_value:\n",
    "        minimum_value = market_cap\n",
    "        minimum_key = bank_name\n",
    "    elif market_cap > maximum_value:\n",
    "        maximum_value = market_cap\n",
    "        maximum_key = bank_name\n",
    "      \n",
    "    # Group banks by categories of market caps\n",
    "    # Use: working on lists - use .append\n",
    "    # Ans:\n",
    "    if market_cap >= 300:\n",
    "        mega_caps.append(bank_name)\n",
    "    elif market_cap >= 10 and market_cap < 300:\n",
    "        large_caps.append(bank_name)\n",
    "    elif market_cap >= 2 and market_cap < 10:\n",
    "        mid_caps.append(bank_name)\n",
    "    elif market_cap < 2:\n",
    "        small_caps.append(bank_name)\n",
    "\n",
    "print()\n",
    "print(f\"Largest bank: {maximum_key}\")\n",
    "print(f\"Smallest bank: {minimum_key}\")\n",
    "print()\n",
    "print(f\"Mega Caps: {mega_caps}\")\n",
    "print(f\"Large Caps: {large_caps}\")\n",
    "print(f\"Mid Caps: {mid_caps}\")\n",
    "print(f\"Small Caps: {small_caps}\")\n",
    "print()\n",
    "print(f\"{bank_count} Banks with a Total Market Cap ${total_market_cap}B\")"
   ]
  },
  {
   "cell_type": "code",
   "execution_count": 79,
   "metadata": {},
   "outputs": [],
   "source": []
  },
  {
   "cell_type": "code",
   "execution_count": 80,
   "metadata": {},
   "outputs": [],
   "source": []
  },
  {
   "cell_type": "code",
   "execution_count": null,
   "metadata": {},
   "outputs": [],
   "source": []
  },
  {
   "cell_type": "code",
   "execution_count": 62,
   "metadata": {},
   "outputs": [],
   "source": []
  },
  {
   "cell_type": "code",
   "execution_count": null,
   "metadata": {},
   "outputs": [],
   "source": []
  },
  {
   "cell_type": "code",
   "execution_count": null,
   "metadata": {},
   "outputs": [],
   "source": []
  }
 ],
 "metadata": {
  "kernelspec": {
   "display_name": "Python 3",
   "language": "python",
   "name": "python3"
  },
  "language_info": {
   "codemirror_mode": {
    "name": "ipython",
    "version": 3
   },
   "file_extension": ".py",
   "mimetype": "text/x-python",
   "name": "python",
   "nbconvert_exporter": "python",
   "pygments_lexer": "ipython3",
   "version": "3.7.6"
  }
 },
 "nbformat": 4,
 "nbformat_minor": 4
}
