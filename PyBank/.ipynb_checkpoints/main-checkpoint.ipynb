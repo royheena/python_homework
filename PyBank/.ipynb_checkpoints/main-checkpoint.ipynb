{
 "cells": [
  {
   "cell_type": "code",
   "execution_count": 107,
   "metadata": {},
   "outputs": [],
   "source": [
    "# Use\n",
    " # open csv\n",
    "    # remember to skip the header of the csv\n",
    " # set empty lists for csv data -> bd_data\n",
    " # set empty variables for calculations/iterations\n",
    " # calculate:\n",
    "    # total_months -> count # months\n",
    "    # net_total_pnl -> sum of all months\n",
    "    # chg -> calculate daily change in profit\n",
    "        # avg_chg -> average of chg - daily_chg.average()?\n",
    "        # max_chg -> maximum of chg\n",
    "        # min_chg -> minimum of chg\n"
   ]
  },
  {
   "cell_type": "code",
   "execution_count": null,
   "metadata": {},
   "outputs": [],
   "source": []
  },
  {
   "cell_type": "code",
   "execution_count": 156,
   "metadata": {},
   "outputs": [],
   "source": [
    "from pathlib import Path\n",
    "import csv\n",
    "\n",
    "csvpath = Path('budget_data.csv')"
   ]
  },
  {
   "cell_type": "code",
   "execution_count": 176,
   "metadata": {},
   "outputs": [
    {
     "name": "stdout",
     "output_type": "stream",
     "text": [
      "Financial Anlysis\n",
      "---------------------\n",
      "Total Months: 86\n",
      "Total: $38382578\n",
      "Average Change: $-2315.12\n",
      "Greatest Increase in Profits: ['Feb-2012'] ($1926159)\n",
      "Greatest Decrease in Profits: ['Sep-2013'] ($-2196167)\n"
     ]
    }
   ],
   "source": [
    "bd_data = []\n",
    "total_months = 0\n",
    "net_total_pnl = 0\n",
    "daily_chg = []\n",
    "sum_chg = 0\n",
    "avg_chg = 0\n",
    "max_chg = 0\n",
    "min_chg = 0\n",
    "\n",
    "with open(csvpath, newline=\"\") as csvfile:\n",
    "    csvreader = csv.reader(csvfile, delimiter=\",\")\n",
    "    csv_header = next(csvreader)\n",
    "    csv_header.append(\"Chg\")\n",
    "    bd_data.append(csv_header)\n",
    "    \n",
    "    first_row = next(csvreader)\n",
    "    prvchg = int(first_row[1])\n",
    "    \n",
    "    total_months += 1\n",
    "    net_total_pnl += int(first_row[1])\n",
    "    \n",
    "    for row in csvreader:\n",
    "        date = row[0]\n",
    "        pnl = int(row[1])\n",
    "             \n",
    "        chg = int(row[1]) - prvchg\n",
    "        prvchg = int(row[1])\n",
    "        daily_chg = daily_chg + [chg]\n",
    "                \n",
    "        total_months += 1\n",
    "        net_total_pnl += pnl\n",
    "        avg_chg = round(sum(daily_chg) / len(daily_chg), 2)\n",
    "        \n",
    "        if min_chg == 0:\n",
    "            min_chg = chg\n",
    "        elif chg < min_chg:\n",
    "            min_chg = chg\n",
    "            min_date =[]\n",
    "            min_date.append(row[0])\n",
    "        elif chg > max_chg:\n",
    "            max_chg = chg\n",
    "            max_date = []\n",
    "            max_date.append(row[0])\n",
    "\n",
    "print(\"Financial Anlysis\")\n",
    "print(\"---------------------\")\n",
    "print(f\"Total Months: {total_months}\")\n",
    "print(f\"Total: ${net_total_pnl}\")\n",
    "print(f\"Average Change: ${avg_chg}\")\n",
    "print(f\"Greatest Increase in Profits: {max_date} (${max_chg})\") \n",
    "print(f\"Greatest Decrease in Profits: {min_date} (${min_chg})\") \n"
   ]
  },
  {
   "cell_type": "code",
   "execution_count": null,
   "metadata": {},
   "outputs": [],
   "source": []
  },
  {
   "cell_type": "code",
   "execution_count": null,
   "metadata": {},
   "outputs": [],
   "source": []
  },
  {
   "cell_type": "code",
   "execution_count": null,
   "metadata": {},
   "outputs": [],
   "source": []
  },
  {
   "cell_type": "code",
   "execution_count": null,
   "metadata": {},
   "outputs": [],
   "source": []
  },
  {
   "cell_type": "code",
   "execution_count": null,
   "metadata": {},
   "outputs": [],
   "source": []
  }
 ],
 "metadata": {
  "kernelspec": {
   "display_name": "Python 3",
   "language": "python",
   "name": "python3"
  },
  "language_info": {
   "codemirror_mode": {
    "name": "ipython",
    "version": 3
   },
   "file_extension": ".py",
   "mimetype": "text/x-python",
   "name": "python",
   "nbconvert_exporter": "python",
   "pygments_lexer": "ipython3",
   "version": "3.7.6"
  }
 },
 "nbformat": 4,
 "nbformat_minor": 4
}
