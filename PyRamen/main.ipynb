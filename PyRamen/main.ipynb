{
 "cells": [
  {
   "cell_type": "code",
   "execution_count": 246,
   "metadata": {},
   "outputs": [],
   "source": [
    "import csv\n",
    "import pandas as pd\n",
    "from pathlib import Path"
   ]
  },
  {
   "cell_type": "code",
   "execution_count": 247,
   "metadata": {},
   "outputs": [],
   "source": [
    "menu_filepath = Path('menu_data.csv')\n",
    "sales_filepath = Path('sales_data.csv')"
   ]
  },
  {
   "cell_type": "code",
   "execution_count": 248,
   "metadata": {},
   "outputs": [],
   "source": [
    "menudf = pd.read_csv(menu_filepath, index_col=\"item\")\n",
    "salesdf = pd.read_csv(sales_filepath, index_col=\"Menu_Item\")"
   ]
  },
  {
   "cell_type": "code",
   "execution_count": 249,
   "metadata": {},
   "outputs": [],
   "source": [
    "menudf = menudf.drop(columns=[\"category\", \"description\"])\n",
    "menudf = menudf.sort_values(\"item\", ascending=True)"
   ]
  },
  {
   "cell_type": "code",
   "execution_count": 250,
   "metadata": {},
   "outputs": [],
   "source": [
    "salesdf = salesdf.drop(columns=[\"Line_Item_ID\", \"Date\", \"Credit_Card_Number\"])\n",
    "salesdf = salesdf.rename(columns={\"Menu_Item\": \"item\"})\n",
    "salesdf = salesdf.sort_values(\"Menu_Item\", ascending=True)\n",
    "salesdf = salesdf.groupby(\"Menu_Item\")"
   ]
  },
  {
   "cell_type": "code",
   "execution_count": 251,
   "metadata": {},
   "outputs": [],
   "source": [
    "sumdf = salesdf[\"Quantity\"].sum()"
   ]
  },
  {
   "cell_type": "code",
   "execution_count": 252,
   "metadata": {},
   "outputs": [],
   "source": [
    "joined = pd.concat([sumdf, menudf], axis=\"columns\", join=\"inner\")"
   ]
  },
  {
   "cell_type": "code",
   "execution_count": 253,
   "metadata": {},
   "outputs": [],
   "source": [
    "joined[\"02-revenue\"] = joined[\"Quantity\"] * joined[\"price\"]\n",
    "joined[\"03-cogs\"] = joined[\"Quantity\"] * joined[\"cost\"]\n",
    "joined[\"04-profit\"] = joined[\"02-revenue\"] - joined[\"03-cogs\"]"
   ]
  },
  {
   "cell_type": "code",
   "execution_count": 254,
   "metadata": {},
   "outputs": [
    {
     "data": {
      "text/html": [
       "<div>\n",
       "<style scoped>\n",
       "    .dataframe tbody tr th:only-of-type {\n",
       "        vertical-align: middle;\n",
       "    }\n",
       "\n",
       "    .dataframe tbody tr th {\n",
       "        vertical-align: top;\n",
       "    }\n",
       "\n",
       "    .dataframe thead th {\n",
       "        text-align: right;\n",
       "    }\n",
       "</style>\n",
       "<table border=\"1\" class=\"dataframe\">\n",
       "  <thead>\n",
       "    <tr style=\"text-align: right;\">\n",
       "      <th></th>\n",
       "      <th>01-count</th>\n",
       "      <th>02-revenue</th>\n",
       "      <th>03-cogs</th>\n",
       "      <th>04-profit</th>\n",
       "    </tr>\n",
       "  </thead>\n",
       "  <tbody>\n",
       "    <tr>\n",
       "      <th>burnt garlic tonkotsu ramen</th>\n",
       "      <td>9070</td>\n",
       "      <td>126980.0</td>\n",
       "      <td>54420</td>\n",
       "      <td>72560.0</td>\n",
       "    </tr>\n",
       "    <tr>\n",
       "      <th>miso crab ramen</th>\n",
       "      <td>8890</td>\n",
       "      <td>106680.0</td>\n",
       "      <td>53340</td>\n",
       "      <td>53340.0</td>\n",
       "    </tr>\n",
       "    <tr>\n",
       "      <th>nagomi shoyu</th>\n",
       "      <td>9132</td>\n",
       "      <td>100452.0</td>\n",
       "      <td>45660</td>\n",
       "      <td>54792.0</td>\n",
       "    </tr>\n",
       "    <tr>\n",
       "      <th>shio ramen</th>\n",
       "      <td>9180</td>\n",
       "      <td>100980.0</td>\n",
       "      <td>45900</td>\n",
       "      <td>55080.0</td>\n",
       "    </tr>\n",
       "    <tr>\n",
       "      <th>soft-shell miso crab ramen</th>\n",
       "      <td>9130</td>\n",
       "      <td>127820.0</td>\n",
       "      <td>63910</td>\n",
       "      <td>63910.0</td>\n",
       "    </tr>\n",
       "    <tr>\n",
       "      <th>spicy miso ramen</th>\n",
       "      <td>9238</td>\n",
       "      <td>110856.0</td>\n",
       "      <td>46190</td>\n",
       "      <td>64666.0</td>\n",
       "    </tr>\n",
       "    <tr>\n",
       "      <th>tonkotsu ramen</th>\n",
       "      <td>9288</td>\n",
       "      <td>120744.0</td>\n",
       "      <td>55728</td>\n",
       "      <td>65016.0</td>\n",
       "    </tr>\n",
       "    <tr>\n",
       "      <th>tori paitan ramen</th>\n",
       "      <td>9156</td>\n",
       "      <td>119028.0</td>\n",
       "      <td>54936</td>\n",
       "      <td>64092.0</td>\n",
       "    </tr>\n",
       "    <tr>\n",
       "      <th>truffle butter ramen</th>\n",
       "      <td>8982</td>\n",
       "      <td>125748.0</td>\n",
       "      <td>62874</td>\n",
       "      <td>62874.0</td>\n",
       "    </tr>\n",
       "    <tr>\n",
       "      <th>vegetarian curry + king trumpet mushroom ramen</th>\n",
       "      <td>8824</td>\n",
       "      <td>114712.0</td>\n",
       "      <td>61768</td>\n",
       "      <td>52944.0</td>\n",
       "    </tr>\n",
       "    <tr>\n",
       "      <th>vegetarian spicy miso</th>\n",
       "      <td>9216</td>\n",
       "      <td>110592.0</td>\n",
       "      <td>46080</td>\n",
       "      <td>64512.0</td>\n",
       "    </tr>\n",
       "  </tbody>\n",
       "</table>\n",
       "</div>"
      ],
      "text/plain": [
       "                                                01-count  02-revenue  03-cogs  \\\n",
       "burnt garlic tonkotsu ramen                         9070    126980.0    54420   \n",
       "miso crab ramen                                     8890    106680.0    53340   \n",
       "nagomi shoyu                                        9132    100452.0    45660   \n",
       "shio ramen                                          9180    100980.0    45900   \n",
       "soft-shell miso crab ramen                          9130    127820.0    63910   \n",
       "spicy miso ramen                                    9238    110856.0    46190   \n",
       "tonkotsu ramen                                      9288    120744.0    55728   \n",
       "tori paitan ramen                                   9156    119028.0    54936   \n",
       "truffle butter ramen                                8982    125748.0    62874   \n",
       "vegetarian curry + king trumpet mushroom ramen      8824    114712.0    61768   \n",
       "vegetarian spicy miso                               9216    110592.0    46080   \n",
       "\n",
       "                                                04-profit  \n",
       "burnt garlic tonkotsu ramen                       72560.0  \n",
       "miso crab ramen                                   53340.0  \n",
       "nagomi shoyu                                      54792.0  \n",
       "shio ramen                                        55080.0  \n",
       "soft-shell miso crab ramen                        63910.0  \n",
       "spicy miso ramen                                  64666.0  \n",
       "tonkotsu ramen                                    65016.0  \n",
       "tori paitan ramen                                 64092.0  \n",
       "truffle butter ramen                              62874.0  \n",
       "vegetarian curry + king trumpet mushroom ramen    52944.0  \n",
       "vegetarian spicy miso                             64512.0  "
      ]
     },
     "execution_count": 254,
     "metadata": {},
     "output_type": "execute_result"
    }
   ],
   "source": [
    "joined2 = joined.drop(columns = [\"price\", \"cost\"])\n",
    "report = joined2.rename(columns = {\"items\": \"sales_item\", \"Quantity\": \"01-count\"})\n",
    "report"
   ]
  },
  {
   "cell_type": "code",
   "execution_count": 257,
   "metadata": {},
   "outputs": [],
   "source": [
    "report.to_csv(\"report.csv\")"
   ]
  },
  {
   "cell_type": "code",
   "execution_count": null,
   "metadata": {},
   "outputs": [],
   "source": []
  },
  {
   "cell_type": "code",
   "execution_count": null,
   "metadata": {},
   "outputs": [],
   "source": []
  },
  {
   "cell_type": "code",
   "execution_count": null,
   "metadata": {},
   "outputs": [],
   "source": []
  },
  {
   "cell_type": "code",
   "execution_count": null,
   "metadata": {},
   "outputs": [],
   "source": []
  },
  {
   "cell_type": "code",
   "execution_count": null,
   "metadata": {},
   "outputs": [],
   "source": []
  },
  {
   "cell_type": "code",
   "execution_count": null,
   "metadata": {},
   "outputs": [],
   "source": []
  },
  {
   "cell_type": "code",
   "execution_count": null,
   "metadata": {},
   "outputs": [],
   "source": []
  },
  {
   "cell_type": "code",
   "execution_count": null,
   "metadata": {},
   "outputs": [],
   "source": []
  },
  {
   "cell_type": "code",
   "execution_count": null,
   "metadata": {},
   "outputs": [],
   "source": []
  },
  {
   "cell_type": "code",
   "execution_count": null,
   "metadata": {},
   "outputs": [],
   "source": []
  },
  {
   "cell_type": "code",
   "execution_count": null,
   "metadata": {},
   "outputs": [],
   "source": []
  },
  {
   "cell_type": "code",
   "execution_count": null,
   "metadata": {},
   "outputs": [],
   "source": []
  },
  {
   "cell_type": "code",
   "execution_count": null,
   "metadata": {},
   "outputs": [],
   "source": []
  },
  {
   "cell_type": "code",
   "execution_count": null,
   "metadata": {},
   "outputs": [],
   "source": []
  },
  {
   "cell_type": "code",
   "execution_count": null,
   "metadata": {},
   "outputs": [],
   "source": []
  },
  {
   "cell_type": "code",
   "execution_count": null,
   "metadata": {},
   "outputs": [],
   "source": []
  }
 ],
 "metadata": {
  "kernelspec": {
   "display_name": "Python 3",
   "language": "python",
   "name": "python3"
  },
  "language_info": {
   "codemirror_mode": {
    "name": "ipython",
    "version": 3
   },
   "file_extension": ".py",
   "mimetype": "text/x-python",
   "name": "python",
   "nbconvert_exporter": "python",
   "pygments_lexer": "ipython3",
   "version": "3.7.6"
  }
 },
 "nbformat": 4,
 "nbformat_minor": 4
}
